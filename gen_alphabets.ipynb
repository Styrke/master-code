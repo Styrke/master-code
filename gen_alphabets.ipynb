{
 "cells": [
  {
   "cell_type": "markdown",
   "metadata": {},
   "source": [
    "# For generating the alphabet to use"
   ]
  },
  {
   "cell_type": "markdown",
   "metadata": {},
   "source": [
    "This script will generate text files with one line per unique character that is fount in the data. This should ensure that the characters have the same id every time we build a model."
   ]
  },
  {
   "cell_type": "code",
   "execution_count": 71,
   "metadata": {
    "collapsed": true
   },
   "outputs": [],
   "source": [
    "from collections import Counter\n",
    "import numpy as np"
   ]
  },
  {
   "cell_type": "code",
   "execution_count": 95,
   "metadata": {
    "collapsed": true
   },
   "outputs": [],
   "source": [
    "def generate_alphabet(filenames, alphabet_file):\n",
    "    \"\"\"Make a list of all characters that appear at least once in a file in the filenames list.\n",
    "    Save the list as alphabet_file with one character per line.\"\"\"\n",
    "    contents = ''\n",
    "    for filename in filenames:\n",
    "        with open(filename, 'r') as f:\n",
    "            contents += f.read()\n",
    "    \n",
    "    alphacount = Counter(contents)\n",
    "    \n",
    "    with open(alphabet_file, 'w') as f:\n",
    "        f.write('\\n'.join(alphacount.keys()))"
   ]
  },
  {
   "cell_type": "code",
   "execution_count": 96,
   "metadata": {
    "collapsed": false
   },
   "outputs": [],
   "source": [
    "generate_alphabet(['data/train/europarl-v7.fr-en.en', 'data/train/giga-fren.release2.en'], 'alphabet.en')"
   ]
  },
  {
   "cell_type": "code",
   "execution_count": 97,
   "metadata": {
    "collapsed": true
   },
   "outputs": [],
   "source": [
    "generate_alphabet(['data/train/europarl-v7.fr-en.fr', 'data/train/giga-fren.release2.fr'], 'alphabet.fr')"
   ]
  }
 ],
 "metadata": {
  "kernelspec": {
   "display_name": "Python 2",
   "language": "python",
   "name": "python2"
  },
  "language_info": {
   "codemirror_mode": {
    "name": "ipython",
    "version": 2
   },
   "file_extension": ".py",
   "mimetype": "text/x-python",
   "name": "python",
   "nbconvert_exporter": "python",
   "pygments_lexer": "ipython2",
   "version": "2.7.11"
  }
 },
 "nbformat": 4,
 "nbformat_minor": 0
}
