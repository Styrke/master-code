{
 "cells": [
  {
   "cell_type": "code",
   "execution_count": 1,
   "metadata": {
    "collapsed": false
   },
   "outputs": [],
   "source": [
    "import numpy as np\n",
    "import tensorflow as tf\n",
    "from tensorflow.models.rnn import rnn, rnn_cell, seq2seq\n",
    "\n",
    "from data_generator import get_batch\n",
    "import utils"
   ]
  },
  {
   "cell_type": "code",
   "execution_count": 2,
   "metadata": {
    "collapsed": false
   },
   "outputs": [],
   "source": [
    "# vars\n",
    "batch_size = 2\n",
    "seq_len = 5\n",
    "in_size = 15\n",
    "l_f_N = 20\n",
    "out_size = 10\n",
    "\n",
    "# tf vars\n",
    "inputs = tf.placeholder(tf.float32, [batch_size, seq_len, in_size])\n",
    "inputs_split = tf.split(split_dim = 1, num_split = seq_len, value = inputs)\n",
    "inputs_split = [tf.squeeze(input_) for input_ in inputs_split]\n",
    "targets = tf.placeholder(tf.float32, [batch_size, out_size])\n",
    "l_f_cell = rnn_cell.BasicRNNCell(l_f_N)\n",
    "l_f_initial_state = l_f_cell.zero_state(batch_size, tf.float32)"
   ]
  },
  {
   "cell_type": "code",
   "execution_count": 3,
   "metadata": {
    "collapsed": true
   },
   "outputs": [],
   "source": [
    "# rnn shizzle\n",
    "outputs, state = rnn.rnn(l_f_cell, inputs_split, initial_state=l_f_initial_state, dtype=None, sequence_length=None, scope=None)"
   ]
  },
  {
   "cell_type": "code",
   "execution_count": 4,
   "metadata": {
    "collapsed": false
   },
   "outputs": [],
   "source": [
    "output = outputs[-1]#tf.pack(outputs) to get the last layer\n",
    "\n",
    "# l_out\n",
    "with tf.variable_scope('out'):\n",
    "    W = tf.Variable(tf.truncated_normal(shape=[l_f_N, out_size]), name=\"W\")\n",
    "    b = tf.Variable(tf.zeros(shape=[out_size]), name=\"b\")\n",
    "\n",
    "# Layer\n",
    "\n",
    "#outputs = tf.reshape(outputs, [batch_size*seq_len, l_f_N])\n",
    "\n",
    "l_out = tf.matmul(output, W) + b\n",
    "\n",
    "#l_out = tf.reshape(l_out, [batch_size, seq_len, out_size])\n",
    "\n",
    "loss = tf.nn.sigmoid_cross_entropy_with_logits(l_out, targets)\n",
    "#    [tf.reshape(l_out, [-1, out_size])],\n",
    "#    [tf.reshape(targets, [-1])],\n",
    "#    [tf.ones([batch_size * seq_len])],\n",
    "#    out_size)\n",
    "train_step = tf.train.GradientDescentOptimizer(learning_rate=0.001).minimize(loss)"
   ]
  },
  {
   "cell_type": "code",
   "execution_count": 5,
   "metadata": {
    "collapsed": false
   },
   "outputs": [],
   "source": [
    "def myPad(input_vector, max_length):\n",
    "    seq_len = input_vector.shape[1]\n",
    "    out = np.zeros((input_vector.shape[0], max_length, input_vector.shape[2]), dtype='int32')\n",
    "    out[:,:seq_len, :] = input_vector\n",
    "    return out\n",
    "        "
   ]
  },
  {
   "cell_type": "code",
   "execution_count": 6,
   "metadata": {
    "collapsed": false
   },
   "outputs": [],
   "source": [
    "# Train\n",
    "train_t, train_X, train_mask = get_batch(batch_size=batch_size)\n",
    "train_t_oh = utils.one_hot(train_t, m=10).astype('float32')\n",
    "train_X_oh = myPad(utils.one_hot(train_X, m=15), 5).astype('float32')"
   ]
  },
  {
   "cell_type": "code",
   "execution_count": 7,
   "metadata": {
    "collapsed": false
   },
   "outputs": [],
   "source": [
    "sess = tf.InteractiveSession()\n",
    "sess.run(tf.initialize_all_variables())"
   ]
  },
  {
   "cell_type": "code",
   "execution_count": 9,
   "metadata": {
    "collapsed": false
   },
   "outputs": [
    {
     "name": "stdout",
     "output_type": "stream",
     "text": [
      "0.732392\n",
      "0.699256\n",
      "0.668558\n",
      "0.640114\n",
      "0.613754\n",
      "0.58932\n",
      "0.566661\n",
      "0.54564\n",
      "0.526127\n",
      "0.508002\n"
     ]
    }
   ],
   "source": [
    "for i in range(10):\n",
    "    john = sess.run([train_step, loss], feed_dict={inputs: train_X_oh, targets: train_t_oh})\n",
    "    print(np.mean(john[1]))"
   ]
  },
  {
   "cell_type": "code",
   "execution_count": null,
   "metadata": {
    "collapsed": true
   },
   "outputs": [],
   "source": []
  }
 ],
 "metadata": {
  "kernelspec": {
   "display_name": "Python 2",
   "language": "python",
   "name": "python2"
  },
  "language_info": {
   "codemirror_mode": {
    "name": "ipython",
    "version": 2
   },
   "file_extension": ".py",
   "mimetype": "text/x-python",
   "name": "python",
   "nbconvert_exporter": "python",
   "pygments_lexer": "ipython2",
   "version": "2.7.6"
  }
 },
 "nbformat": 4,
 "nbformat_minor": 0
}
