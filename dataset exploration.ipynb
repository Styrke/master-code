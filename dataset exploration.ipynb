{
 "cells": [
  {
   "cell_type": "markdown",
   "metadata": {},
   "source": [
    "# Explore data set and sequence lengths"
   ]
  },
  {
   "cell_type": "code",
   "execution_count": 1,
   "metadata": {
    "collapsed": false
   },
   "outputs": [],
   "source": [
    "%matplotlib inline\n",
    "import matplotlib.pyplot as plt\n",
    "import numpy as np\n",
    "from collections import Counter"
   ]
  },
  {
   "cell_type": "code",
   "execution_count": 2,
   "metadata": {
    "collapsed": false
   },
   "outputs": [
    {
     "name": "stdout",
     "output_type": "stream",
     "text": [
      "CPU times: user 8.9 s, sys: 1.24 s, total: 10.1 s\n",
      "Wall time: 12.2 s\n"
     ]
    }
   ],
   "source": [
    "%%time\n",
    "enfile = 'data/train/europarl-v7.fr-en.en'\n",
    "frfile = 'data/train/europarl-v7.fr-en.fr'\n",
    "\n",
    "with open(enfile, 'r') as f:\n",
    "    enlines = f.read().split('\\n')\n",
    "with open(frfile, 'r') as f:\n",
    "    frlines = f.read().split('\\n')\n",
    "lines = zip(enlines, frlines)\n",
    "lengths = np.array([[len(en), len(fr), en.count(' ')] for en, fr in lines])"
   ]
  },
  {
   "cell_type": "markdown",
   "metadata": {},
   "source": [
    "We can see from the following plot that the line lengths in europarl looks exponentially distributed. We can cut off the longest samples without loosing much:"
   ]
  },
  {
   "cell_type": "code",
   "execution_count": 10,
   "metadata": {
    "collapsed": false
   },
   "outputs": [
    {
     "data": {
      "text/plain": [
       "[<matplotlib.lines.Line2D at 0x7fe6c47e0e50>,\n",
       " <matplotlib.lines.Line2D at 0x7fe6c47ee110>]"
      ]
     },
     "execution_count": 10,
     "metadata": {},
     "output_type": "execute_result"
    },
    {
     "data": {
      "image/png": "[encoded data removed]",
      "text/plain": [
       "<matplotlib.figure.Figure at 0x7fe6d9c22210>"
      ]
     },
     "metadata": {},
     "output_type": "display_data"
    }
   ],
   "source": [
    "# English and french lengths plotted together. It's hard to see a difference\n",
    "rng = xrange(len(lengths))\n",
    "plt.plot(rng, sorted(lengths[:,0]), rng, sorted(lengths[:,1]))"
   ]
  },
  {
   "cell_type": "code",
   "execution_count": 6,
   "metadata": {
    "collapsed": false
   },
   "outputs": [
    {
     "data": {
      "text/plain": [
       "[<matplotlib.lines.Line2D at 0x7f0f51001350>]"
      ]
     },
     "execution_count": 6,
     "metadata": {},
     "output_type": "execute_result"
    },
    {
     "data": {
      "image/png": "[encoded data removed]",
      "text/plain": [
       "<matplotlib.figure.Figure at 0x7f0f17e89890>"
      ]
     },
     "metadata": {},
     "output_type": "display_data"
    }
   ],
   "source": [
    "# spaces\n",
    "plt.plot(rng, sorted(lengths[:,2]))"
   ]
  },
  {
   "cell_type": "markdown",
   "metadata": {},
   "source": [
    "Lets see the proportion of samples that are left if we remove samples where the *english* sentences that are longer than `upper_cutoff` or shorter than `lower_cutoff`:"
   ]
  },
  {
   "cell_type": "code",
   "execution_count": 11,
   "metadata": {
    "collapsed": false
   },
   "outputs": [
    {
     "data": {
      "text/plain": [
       "0.9805844827277056"
      ]
     },
     "execution_count": 11,
     "metadata": {},
     "output_type": "execute_result"
    }
   ],
   "source": [
    "upper_cutoff = 400\n",
    "lower_cutoff = 2\n",
    "len([x for x in lengths[:,0] if x <= upper_cutoff and x > lower_cutoff])/float(len(lengths[:,0]))"
   ]
  },
  {
   "cell_type": "markdown",
   "metadata": {},
   "source": [
    "Likewise for *french*"
   ]
  },
  {
   "cell_type": "code",
   "execution_count": 16,
   "metadata": {
    "collapsed": false
   },
   "outputs": [
    {
     "data": {
      "text/plain": [
       "0.9786340154324"
      ]
     },
     "execution_count": 16,
     "metadata": {},
     "output_type": "execute_result"
    }
   ],
   "source": [
    "upper_cutoff = 450\n",
    "lower_cutoff = 2\n",
    "len([x for x in lengths[:,1] if x <= upper_cutoff and x > lower_cutoff])/float(len(lengths[:,1]))"
   ]
  },
  {
   "cell_type": "code",
   "execution_count": 19,
   "metadata": {
    "collapsed": false
   },
   "outputs": [
    {
     "data": {
      "text/plain": [
       "0.9817853449976192"
      ]
     },
     "execution_count": 19,
     "metadata": {},
     "output_type": "execute_result"
    }
   ],
   "source": [
    "upper_cutoff = 64\n",
    "len([x for x in lengths[:,2] if x <= upper_cutoff])/float(len(lengths[:,2]))"
   ]
  },
  {
   "cell_type": "markdown",
   "metadata": {},
   "source": [
    "It seems like french sentences are likely to be slightly longer"
   ]
  },
  {
   "cell_type": "markdown",
   "metadata": {},
   "source": [
    "# For generating the alphabet to use"
   ]
  },
  {
   "cell_type": "markdown",
   "metadata": {},
   "source": [
    "This script will generate text files with one line per unique character that is fount in the data. This should ensure that the characters have the same id every time we build a model."
   ]
  },
  {
   "cell_type": "code",
   "execution_count": 71,
   "metadata": {
    "collapsed": true
   },
   "outputs": [],
   "source": [
    "from collections import Counter\n",
    "import numpy as np"
   ]
  },
  {
   "cell_type": "code",
   "execution_count": 95,
   "metadata": {
    "collapsed": true
   },
   "outputs": [],
   "source": [
    "def generate_alphabet(filenames, alphabet_file):\n",
    "    \"\"\"Make a list of all characters that appear at least once in a file in the filenames list.\n",
    "    Save the list as alphabet_file with one character per line.\"\"\"\n",
    "    contents = ''\n",
    "    for filename in filenames:\n",
    "        with open(filename, 'r') as f:\n",
    "            contents += f.read()\n",
    "    \n",
    "    alphacount = Counter(contents)\n",
    "    \n",
    "    with open(alphabet_file, 'w') as f:\n",
    "        f.write('\\n'.join(alphacount.keys()))"
   ]
  },
  {
   "cell_type": "code",
   "execution_count": 96,
   "metadata": {
    "collapsed": false
   },
   "outputs": [],
   "source": [
    "generate_alphabet(['data/train/europarl-v7.fr-en.en', 'data/train/giga-fren.release2.en'], 'alphabet.en')"
   ]
  },
  {
   "cell_type": "code",
   "execution_count": 97,
   "metadata": {
    "collapsed": true
   },
   "outputs": [],
   "source": [
    "generate_alphabet(['data/train/europarl-v7.fr-en.fr', 'data/train/giga-fren.release2.fr'], 'alphabet.fr')"
   ]
  },
  {
   "cell_type": "markdown",
   "metadata": {},
   "source": [
    "# Find sentences with length of k\n",
    "Use to find sentences with specific amount of words in list of tuples"
   ]
  },
  {
   "cell_type": "code",
   "execution_count": 48,
   "metadata": {
    "collapsed": false
   },
   "outputs": [],
   "source": [
    "# from input list of tuples `x`\n",
    "# find elements that are of length `input_length`\n",
    "def find_sentences_with_length_of(x, input_length=1, minimum_length=1, target_length=6, duplicates=False):\n",
    "    wanted = []\n",
    "    for i in xrange(len(x)):\n",
    "        if x[i][0].count(' ') < input_length \\\n",
    "        and len(lines[i][0]) > minimum_length \\\n",
    "        and lines[i][1].count(' ') < target_length:\n",
    "            wanted.append(lines[i])\n",
    "    if not duplicates:\n",
    "        wanted = set(wanted)\n",
    "    \n",
    "    return wanted"
   ]
  }
 ],
 "metadata": {
  "kernelspec": {
   "display_name": "Python 2",
   "language": "python",
   "name": "python2"
  },
  "language_info": {
   "codemirror_mode": {
    "name": "ipython",
    "version": 2
   },
   "file_extension": ".py",
   "mimetype": "text/x-python",
   "name": "python",
   "nbconvert_exporter": "python",
   "pygments_lexer": "ipython2",
   "version": "2.7.6"
  }
 },
 "nbformat": 4,
 "nbformat_minor": 0
}
