{
 "cells": [
  {
   "cell_type": "markdown",
   "metadata": {},
   "source": [
    "# Explore data set and sequence lengths"
   ]
  },
  {
   "cell_type": "code",
   "execution_count": 1,
   "metadata": {
    "collapsed": false
   },
   "outputs": [],
   "source": [
    "%matplotlib inline\n",
    "import matplotlib.pyplot as plt\n",
    "import numpy as np\n",
    "from collections import Counter"
   ]
  },
  {
   "cell_type": "code",
   "execution_count": 2,
   "metadata": {
    "collapsed": false
   },
   "outputs": [
    {
     "name": "stdout",
     "output_type": "stream",
     "text": [
      "CPU times: user 8.9 s, sys: 1.24 s, total: 10.1 s\n",
      "Wall time: 12.2 s\n"
     ]
    }
   ],
   "source": [
    "%%time\n",
    "enfile = 'data/train/europarl-v7.fr-en.en'\n",
    "frfile = 'data/train/europarl-v7.fr-en.fr'\n",
    "\n",
    "with open(enfile, 'r') as f:\n",
    "    enlines = f.read().split('\\n')\n",
    "with open(frfile, 'r') as f:\n",
    "    frlines = f.read().split('\\n')\n",
    "lines = zip(enlines, frlines)\n",
    "lengths = np.array([[len(en), len(fr), en.count(' ')] for en, fr in lines])"
   ]
  },
  {
   "cell_type": "markdown",
   "metadata": {},
   "source": [
    "We can see from the following plot that the line lengths in europarl looks exponentially distributed. We can cut off the longest samples without loosing much:"
   ]
  },
  {
   "cell_type": "code",
   "execution_count": 10,
   "metadata": {
    "collapsed": false
   },
   "outputs": [
    {
     "data": {
      "text/plain": [
       "[<matplotlib.lines.Line2D at 0x7fe6c47e0e50>,\n",
       " <matplotlib.lines.Line2D at 0x7fe6c47ee110>]"
      ]
     },
     "execution_count": 10,
     "metadata": {},
     "output_type": "execute_result"
    },
    {
     "data": {
      "image/png": "[encoded data removed]",
      "text/plain": [
       "<matplotlib.figure.Figure at 0x7fe6d9c22210>"
      ]
     },
     "metadata": {},
     "output_type": "display_data"
    }
   ],
   "source": [
    "# English and french lengths plotted together. It's hard to see a difference\n",
    "rng = xrange(len(lengths))\n",
    "plt.plot(rng, sorted(lengths[:,0]), rng, sorted(lengths[:,1]))"
   ]
  },
  {
   "cell_type": "code",
   "execution_count": 6,
   "metadata": {
    "collapsed": false
   },
   "outputs": [
    {
     "data": {
      "text/plain": [
       "[<matplotlib.lines.Line2D at 0x7f0f51001350>]"
      ]
     },
     "execution_count": 6,
     "metadata": {},
     "output_type": "execute_result"
    },
    {
     "data": {
      "image/png": "[encoded data removed]",
      "text/plain": [
       "<matplotlib.figure.Figure at 0x7f0f17e89890>"
      ]
     },
     "metadata": {},
     "output_type": "display_data"
    }
   ],
   "source": [
    "# spaces\n",
    "plt.plot(rng, sorted(lengths[:,2]))"
   ]
  },
  {
   "cell_type": "markdown",
   "metadata": {},
   "source": [
    "Lets see the proportion of samples that are left if we remove samples where the *english* sentences that are longer than `upper_cutoff` or shorter than `lower_cutoff`:"
   ]
  },
  {
   "cell_type": "code",
   "execution_count": 11,
   "metadata": {
    "collapsed": false
   },
   "outputs": [
    {
     "data": {
      "text/plain": [
       "0.9805844827277056"
      ]
     },
     "execution_count": 11,
     "metadata": {},
     "output_type": "execute_result"
    }
   ],
   "source": [
    "upper_cutoff = 400\n",
    "lower_cutoff = 2\n",
    "len([x for x in lengths[:,0] if x <= upper_cutoff and x > lower_cutoff])/float(len(lengths[:,0]))"
   ]
  },
  {
   "cell_type": "markdown",
   "metadata": {},
   "source": [
    "Likewise for *french*"
   ]
  },
  {
   "cell_type": "code",
   "execution_count": 16,
   "metadata": {
    "collapsed": false
   },
   "outputs": [
    {
     "data": {
      "text/plain": [
       "0.9786340154324"
      ]
     },
     "execution_count": 16,
     "metadata": {},
     "output_type": "execute_result"
    }
   ],
   "source": [
    "upper_cutoff = 450\n",
    "lower_cutoff = 2\n",
    "len([x for x in lengths[:,1] if x <= upper_cutoff and x > lower_cutoff])/float(len(lengths[:,1]))"
   ]
  },
  {
   "cell_type": "code",
   "execution_count": 19,
   "metadata": {
    "collapsed": false
   },
   "outputs": [
    {
     "data": {
      "text/plain": [
       "0.9817853449976192"
      ]
     },
     "execution_count": 19,
     "metadata": {},
     "output_type": "execute_result"
    }
   ],
   "source": [
    "upper_cutoff = 64\n",
    "len([x for x in lengths[:,2] if x <= upper_cutoff])/float(len(lengths[:,2]))"
   ]
  },
  {
   "cell_type": "markdown",
   "metadata": {},
   "source": [
    "It seems like french sentences are likely to be slightly longer"
   ]
  },
  {
   "cell_type": "markdown",
   "metadata": {},
   "source": [
    "# For generating the alphabet to use"
   ]
  },
  {
   "cell_type": "markdown",
   "metadata": {},
   "source": [
    "This script will generate text files with one line per unique character that is fount in the data. This should ensure that the characters have the same id every time we build a model."
   ]
  },
  {
   "cell_type": "code",
   "execution_count": 71,
   "metadata": {
    "collapsed": true
   },
   "outputs": [],
   "source": [
    "import numpy as np"
   ]
  },
  {
   "cell_type": "code",
   "execution_count": 95,
   "metadata": {
    "collapsed": true
   },
   "outputs": [],
   "source": [
    "def generate_alphabet(filenames, alphabet_file):\n",
    "    \"\"\"Make a list of all characters that appear at least once in a file in the filenames list.\n",
    "    Save the list as alphabet_file with one character per line.\"\"\"\n",
    "    contents = ''\n",
    "    for filename in filenames:\n",
    "        with open(filename, 'r') as f:\n",
    "            contents += f.read()\n",
    "    \n",
    "    with open(alphabet_file, 'w') as f:\n",
    "        f.write('\\n'.join(set(contents)))"
   ]
  },
  {
   "cell_type": "code",
   "execution_count": 96,
   "metadata": {
    "collapsed": false
   },
   "outputs": [],
   "source": [
    "generate_alphabet(['data/train/europarl-v7.fr-en.en', 'data/train/giga-fren.release2.en'], 'data/train/alphabet')"
   ]
  },
  {
   "cell_type": "markdown",
   "metadata": {},
   "source": [
    "# Look at character occurrences in dataset"
   ]
  },
  {
   "cell_type": "code",
   "execution_count": 17,
   "metadata": {
    "collapsed": true
   },
   "outputs": [],
   "source": [
    "%matplotlib inline\n",
    "import matplotlib.pyplot as plt\n",
    "from collections import Counter"
   ]
  },
  {
   "cell_type": "code",
   "execution_count": 8,
   "metadata": {
    "collapsed": false
   },
   "outputs": [
    {
     "name": "stdout",
     "output_type": "stream",
     "text": [
      "loading (train/europarl-v7.fr-en.en) ...\n",
      "loading (train/europarl-v7.fr-en.fr) ...\n",
      "loading (train/giga-fren.release2.en) ...\n",
      "loading (train/giga-fren.release2.fr) ...\n"
     ]
    }
   ],
   "source": [
    "dataset = ['train/europarl-v7.fr-en.en', 'train/europarl-v7.fr-en.fr', 'train/giga-fren.release2.en', 'train/giga-fren.release2.fr']\n",
    "\n",
    "contents = Counter()\n",
    "\n",
    "for filename in dataset:\n",
    "    print(\"loading (%s) ...\" %filename)\n",
    "    for line in open(filename, 'r'):\n",
    "        contents.update(line)"
   ]
  },
  {
   "cell_type": "code",
   "execution_count": 19,
   "metadata": {
    "collapsed": false,
    "scrolled": false
   },
   "outputs": [
    {
     "data": {
      "text/plain": [
       "[<matplotlib.lines.Line2D at 0x7f60679cd518>]"
      ]
     },
     "execution_count": 19,
     "metadata": {},
     "output_type": "execute_result"
    },
    {
     "data": {
      "image/png": "[encoded data removed]",
      "text/plain": [
       "<matplotlib.figure.Figure at 0x7f6067c234a8>"
      ]
     },
     "metadata": {},
     "output_type": "display_data"
    }
   ],
   "source": [
    "plt.plot(sorted(contents.values()))"
   ]
  },
  {
   "cell_type": "code",
   "execution_count": 32,
   "metadata": {
    "collapsed": false
   },
   "outputs": [
    {
     "name": "stdout",
     "output_type": "stream",
     "text": [
      "222\n",
      "[('р', 10538), ('z', 5369064), ('_', 4169551), ('\"', 3696989), ('2', 21786645), ('ë', 72191), ('—', 607889), ('O', 12803870), ('°', 259612), ('u', 275468931), ('R', 16215409), ('\\x19', 10981), ('n', 533126990), ('ο', 12276), ('í', 67572), ('d', 274480663), (']', 1071215), ('ø', 11411), ('\\x12', 18713), ('å', 19273), ('с', 10402), ('s', 494944476), ('Ø', 27909), ('Á', 113142), ('µ', 42161), ('`', 87811), ('k', 14534570), ('α', 30593), ('K', 2173256), ('%', 1989989), ('\\x07', 42523), ('&', 661794), ('*', 606953), ('\\x17', 11517), ('w', 36516664), ('y', 51427559), ('È', 86756), ('3', 11090660), ('•', 3472608), ('ñ', 27252), ('ε', 11350), ('¶', 12110), ('Ê', 24802), ('ü', 55005), ('č', 12294), ('\\x05', 12351), ('\\x10', 14361), ('~', 91860), ('ï', 164466), ('4', 9451620), (';', 4429422), ('@', 273720), ('\\n', 49056246), ('9', 12724848), ('?', 1003625), ('Ö', 20768), (\"'\", 25618155), ('j', 10632663), ('×', 28532), ('/', 6785526), ('8', 7620574), ('−', 74419), ('™', 94429), ('v', 82614527), ('à', 15306029), ('–', 1579402), ('o', 453417363), ('[', 1077647), ('«', 1245374), ('f', 108067708), ('(', 14499969), (')', 15462937), ('C', 36147606), ('Y', 1429046), ('â', 783200), (',', 64562768), ('B', 8701108), ('Q', 1716386), ('m', 176587739), ('>', 987585), ('7', 7516338), ('»', 1226753), ('.', 60825407), ('6', 8207558), ('т', 10965), (':', 6965918), ('À', 401991), ('ł', 11321), ('F', 9200023), ('\\xad', 40668), ('\\x06', 18842), ('5', 9978124), ('T', 21627397), ('′', 21830), ('ù', 492776), ('ó', 64078), ('$', 1551184), ('®', 44095), ('t', 556797876), ('Â', 41377), ('c', 238706889), ('ê', 4170825), ('ÿ', 10734), ('1', 24144811), ('е', 15678), ('}', 93313), ('¢', 19653), ('о', 17803), ('N', 14005790), ('h', 137026684), ('\\x02', 12908), (' ', 1301660452), ('§', 56904), ('\\x18', 30554), ('\\x16', 11530), ('{', 95069), ('ˆ', 24389), ('-', 21997848), ('è', 11217164), ('‰', 42137), ('!', 183539), ('ä', 50746), ('r', 456428436), ('H', 6803055), ('á', 86914), ('I', 20810717), ('P', 19319944), ('û', 709041), ('■', 36679), ('\\u2002', 24312), ('\\x03', 133173), ('‑', 102747), ('\\\\', 452654), ('\\x0e', 15893), ('U', 7525982), ('G', 6997944), ('p', 181469469), ('Ž', 10656), ('τ', 11590), ('é', 96927724), ('x', 25192368), ('\\x14', 21713), ('◦', 328864), ('▪', 288283), ('ú', 14299), ('Z', 435767), ('÷', 14671), ('A', 26539422), ('+', 279618), ('\\x08', 14660), ('±', 41632), ('e', 905171137), ('Î', 58653), ('š', 14647), ('ﬁ', 159551), ('†', 11989), ('ι', 10650), ('’', 18249825), ('√', 11940), ('ρ', 10941), ('\\x11', 36586), ('i', 523658350), ('´', 267685), ('L', 17314364), ('μ', 23168), ('S', 22274439), ('<', 244966), ('\\x15', 17753), ('\\x13', 20215), ('ç', 1227980), ('и', 17104), ('¨', 142736), ('l', 306157735), ('‘', 168406), ('\\x01', 24908), ('\\xa0', 234951), ('M', 15096796), ('V', 3844719), ('ν', 10679), ('ﬂ', 26061), ('…', 355607), ('Ç', 24017), ('\\uf8f5', 32876), ('²', 11320), ('É', 2223646), ('Ã', 1339607), ('\\x0f', 26979), ('©', 968013), ('\\u2028', 5228197), ('q', 34746078), ('а', 16346), ('J', 3137842), ('0', 34065903), ('€', 149495), ('#', 145371), ('X', 870463), ('\\x0b', 13927), ('D', 14664119), ('\\x04', 24912), ('œ', 422344), ('·', 72113), ('Ô', 21805), ('º', 27996), ('ì', 10308), ('E', 20815287), ('\\x92', 62724), ('Š', 10007), ('b', 67473788), ('�', 82164), ('ª', 37838), ('î', 725912), ('=', 640723), ('ã', 19053), ('a', 522503202), ('ô', 1569946), ('|', 397379), ('н', 14240), ('β', 18621), ('ö', 56733), ('g', 93577790), ('W', 4626144), ('Å', 20716)]\n"
     ]
    }
   ],
   "source": [
    "its = [(c, n) for c, n in contents.items() if n >= 10000]\n",
    "print(len(its))\n",
    "print(its)"
   ]
  },
  {
   "cell_type": "markdown",
   "metadata": {},
   "source": [
    "# Find sentences with length of k\n",
    "Use to find sentences with specific amount of words in list of tuples"
   ]
  },
  {
   "cell_type": "code",
   "execution_count": 48,
   "metadata": {
    "collapsed": false
   },
   "outputs": [],
   "source": [
    "# from input list of tuples `x`\n",
    "# find elements that are of length `input_length`\n",
    "def find_sentences_with_length_of(x, input_length=1, minimum_length=1, target_length=6, duplicates=False):\n",
    "    wanted = []\n",
    "    for i in xrange(len(x)):\n",
    "        if x[i][0].count(' ') < input_length \\\n",
    "        and len(x[i][0]) > minimum_length \\\n",
    "        and x[i][1].count(' ') < target_length:\n",
    "            wanted.append(x[i])\n",
    "    if not duplicates:\n",
    "        wanted = set(wanted)\n",
    "    \n",
    "    return wanted"
   ]
  },
  {
   "cell_type": "markdown",
   "metadata": {},
   "source": [
    "# Check that test set is completely separate from training"
   ]
  },
  {
   "cell_type": "code",
   "execution_count": 1,
   "metadata": {
    "collapsed": true
   },
   "outputs": [],
   "source": [
    "trainfile = 'train/europarl-v7.fr-en.en'\n",
    "testfile = 'test/test2008.en'\n",
    "\n",
    "with open(trainfile, 'r') as f:\n",
    "    trainlines = f.read().split('\\n')\n",
    "with open(testfile, 'r') as f:\n",
    "    testlines = f.read().split('\\n')"
   ]
  },
  {
   "cell_type": "code",
   "execution_count": 11,
   "metadata": {
    "collapsed": false
   },
   "outputs": [
    {
     "name": "stdout",
     "output_type": "stream",
     "text": [
      "CPU times: user 3min 7s, sys: 59.5 ms, total: 3min 7s\n",
      "Wall time: 3min 6s\n"
     ]
    }
   ],
   "source": [
    "%%time\n",
    "duplicates = [testline for testline in testlines if testline in trainlines]"
   ]
  },
  {
   "cell_type": "code",
   "execution_count": 13,
   "metadata": {
    "collapsed": false
   },
   "outputs": [
    {
     "data": {
      "text/plain": [
       "50"
      ]
     },
     "execution_count": 13,
     "metadata": {},
     "output_type": "execute_result"
    }
   ],
   "source": [
    "len(duplicates)"
   ]
  },
  {
   "cell_type": "code",
   "execution_count": 12,
   "metadata": {
    "collapsed": false
   },
   "outputs": [
    {
     "data": {
      "text/plain": [
       "['That concludes the vote.',\n",
       " '(The President cut the speaker off)',\n",
       " 'As the author is not present, Question No 12 lapses.',\n",
       " 'Human rights',\n",
       " 'Thank you, Mr Rübig.',\n",
       " 'Thank you, Mrs Palacio.',\n",
       " 'The vote will take place tomorrow at 12 noon.',\n",
       " 'Section IV, Court of Justice',\n",
       " '(Parliament adopted the resolution)',\n",
       " 'Thank you, Commissioner.',\n",
       " 'Approval of the Minutes of the previous sitting',\n",
       " 'I welcome this debate.',\n",
       " 'Approval of the Minutes of the previous sitting',\n",
       " 'The vote will take place today at 12 noon.',\n",
       " '(The President cut the speaker off)',\n",
       " 'The debate is closed.',\n",
       " 'Thank you Commissioner.',\n",
       " 'The debate is closed.',\n",
       " '(Parliament adopted the legislative resolution)',\n",
       " '(Applause)',\n",
       " 'That concludes Questions to the Commission.',\n",
       " '(Applause from the PPE-DE Group)',\n",
       " 'The next item is the debate on topical and urgent subjects of major importance.',\n",
       " 'Vietnam',\n",
       " 'The vote will take place today at 5.30 p.m.',\n",
       " '(Applause)',\n",
       " 'That has to stop.',\n",
       " 'The vote will take place tomorrow at 11.00 a.m.',\n",
       " 'The choice is yours.',\n",
       " '(Parliament approved the Commission proposal)',\n",
       " 'Adjournment of the session',\n",
       " 'Summer time',\n",
       " 'It is totally unacceptable.',\n",
       " 'The debate is closed.',\n",
       " 'The debate is closed.',\n",
       " 'That is our responsibility.',\n",
       " '(Parliament approved the Commission proposal)',\n",
       " '(The President declared the common position approved as amended)',\n",
       " '(Parliament accepted the oral amendment)',\n",
       " 'They have misled people for far too long.',\n",
       " 'That concludes this item.',\n",
       " 'The debate is closed.',\n",
       " 'That is not what we want.',\n",
       " 'The debate is closed.',\n",
       " 'Thank you, Commissioner Liikanen.',\n",
       " '(In successive votes, Parliament adopted the two legislative resolutions)',\n",
       " 'Thank you, Commissioner.',\n",
       " 'Tunisia',\n",
       " 'We shall now proceed to the vote.',\n",
       " '']"
      ]
     },
     "execution_count": 12,
     "metadata": {},
     "output_type": "execute_result"
    }
   ],
   "source": [
    "duplicates"
   ]
  }
 ],
 "metadata": {
  "kernelspec": {
   "display_name": "Python 3",
   "language": "python",
   "name": "python3"
  },
  "language_info": {
   "codemirror_mode": {
    "name": "ipython",
    "version": 3
   },
   "file_extension": ".py",
   "mimetype": "text/x-python",
   "name": "python",
   "nbconvert_exporter": "python",
   "pygments_lexer": "ipython3",
   "version": "3.4.3"
  }
 },
 "nbformat": 4,
 "nbformat_minor": 0
}
